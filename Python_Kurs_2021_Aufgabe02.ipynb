{
  "nbformat": 4,
  "nbformat_minor": 0,
  "metadata": {
    "colab": {
      "name": "Python_Kurs_2021_Aufgabe02.ipynb",
      "provenance": [],
      "authorship_tag": "ABX9TyOAUucv2r0vwtN/13hlZJzM",
      "include_colab_link": true
    },
    "kernelspec": {
      "name": "python3",
      "display_name": "Python 3"
    },
    "language_info": {
      "name": "python"
    }
  },
  "cells": [
    {
      "cell_type": "markdown",
      "metadata": {
        "id": "view-in-github",
        "colab_type": "text"
      },
      "source": [
        "<a href=\"https://colab.research.google.com/github/snowformatics/Bioinformatics/blob/master/Python_Kurs_2021_Aufgabe02.ipynb\" target=\"_parent\"><img src=\"https://colab.research.google.com/assets/colab-badge.svg\" alt=\"Open In Colab\"/></a>"
      ]
    },
    {
      "cell_type": "markdown",
      "metadata": {
        "id": "ogQ-0Ixt9EYq"
      },
      "source": [
        "**Transkription DNA in RNA**\n"
      ]
    },
    {
      "cell_type": "code",
      "metadata": {
        "id": "HB3FMt_i9DWm"
      },
      "source": [
        "# Falls nicht bekannt, lest über Transkription der DNA in RNA im Internet"
      ],
      "execution_count": null,
      "outputs": []
    },
    {
      "cell_type": "code",
      "metadata": {
        "id": "d2YCKpwL9peb"
      },
      "source": [
        "# Sucht im Internet nach der passenden Built-in Function"
      ],
      "execution_count": null,
      "outputs": []
    },
    {
      "cell_type": "code",
      "metadata": {
        "id": "IkgavpLL9wkm"
      },
      "source": [
        "# Transkribiert die DNA Sequenz aus Aufgabe 1 in eine RNA Sequenz"
      ],
      "execution_count": null,
      "outputs": []
    }
  ]
}