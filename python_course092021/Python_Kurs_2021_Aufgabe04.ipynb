{
  "nbformat": 4,
  "nbformat_minor": 0,
  "metadata": {
    "colab": {
      "name": "Python_Kurs_2021_Aufgabe04",
      "provenance": [],
      "authorship_tag": "ABX9TyOUwsn70kliJLE4BqiVLtzG",
      "include_colab_link": true
    },
    "kernelspec": {
      "name": "python3",
      "display_name": "Python 3"
    },
    "language_info": {
      "name": "python"
    }
  },
  "cells": [
    {
      "cell_type": "markdown",
      "metadata": {
        "id": "view-in-github",
        "colab_type": "text"
      },
      "source": [
        "<a href=\"https://colab.research.google.com/github/snowformatics/Bioinformatics/blob/master/Python_Kurs_2021_Aufgabe04.ipynb\" target=\"_parent\"><img src=\"https://colab.research.google.com/assets/colab-badge.svg\" alt=\"Open In Colab\"/></a>"
      ]
    },
    {
      "cell_type": "code",
      "metadata": {
        "id": "cT8KDJs_xXnS"
      },
      "source": [
        "# Berechnet den GC Gehalt der DNA Sequenz aus Aufgabe 1\n",
        "# https://de.wikipedia.org/wiki/GC-Gehalt"
      ],
      "execution_count": null,
      "outputs": []
    }
  ]
}