{
  "nbformat": 4,
  "nbformat_minor": 0,
  "metadata": {
    "colab": {
      "name": "Python_Kurs_2021_Aufgaben.ipynb",
      "provenance": [],
      "authorship_tag": "ABX9TyNoUlMuow8TNcbCh+Chbc97",
      "include_colab_link": true
    },
    "kernelspec": {
      "name": "python3",
      "display_name": "Python 3"
    },
    "language_info": {
      "name": "python"
    }
  },
  "cells": [
    {
      "cell_type": "markdown",
      "metadata": {
        "id": "view-in-github",
        "colab_type": "text"
      },
      "source": [
        "<a href=\"https://colab.research.google.com/github/snowformatics/Bioinformatics/blob/master/Python_Kurs_2021_Aufgabe01.ipynb\" target=\"_parent\"><img src=\"https://colab.research.google.com/assets/colab-badge.svg\" alt=\"Open In Colab\"/></a>"
      ]
    },
    {
      "cell_type": "markdown",
      "metadata": {
        "id": "IjW6iygW513_"
      },
      "source": [
        "\n",
        "\n",
        "1.   DNA Nukleotide zählen\n",
        "\n",
        "Zählt die Anzahl der DNA Nukleotide Adenin (A), Guanin (G), Cytosin (C), Thymin (T) in einer Sequenz.\n",
        "\n",
        "CACAAACACAGCAACTAATCCACCAGTAGCTTGAGAAGATGAGCACAATCTCACAGTGACTATAAGCAGT\n",
        "ACACAGCGCCAGTCAACAACAATAACTATCATCTGAGAAATTCAGGGAAATACTCGACGTACACTAGAAA\n",
        "AATATATCGTAGGACCATCGTCCTCATCTCCTTCCCGAGTTCCCATGTCTTTGGCTGCGGAAATAGCTGA\n",
        "GGAGAACCTGCGCCTTTTCTCTTGCGCGTGGTGTTCCTGACTGTGACAGTGCGACTAAAGGGGGCACGGC\n",
        "ATCCTCTTGAAGAACTATGTTGCAAAACCTGCTGCTGTTTGTGCATAGCTGAAGCAATGCCGCGGTAGCA\n",
        "TTTTCCTTCGCTTTCGCTGAACCCAGTTCGACAACTTCAACAAGGGCCGGAATACCACGCGCCTGCCCAA\n",
        "TCGCAGTCCTTCCTTCTGGTATCGTAGCAAGATTTGCCAAGACAGCTACAGCTTTATCGACCATTCCAGC\n",
        "AGCAGGGTCCATAAGCTCAACTAGGTGCTTCAATGCATCAGCTTGCACAATTCGACCCTTGTTCTCATGA\n",
        "AGTATGGATAAATTAAACAATGCAGTAACCGCATCTTTCTTTCCTCGTGGGCTCCCATTTCCCAGCAAGT\n",
        "CCACGAGAGGCTTTACAGCACCAGATCGCCCTATCCTCACTCTGTTTTCTTCAATAATTGAGAGACTGAA\n",
        "\n",
        "\n"
      ]
    },
    {
      "cell_type": "code",
      "metadata": {
        "id": "Kl5js6Ib5yNJ"
      },
      "source": [
        "# Definiert eine Variable my_sequence und übergebt als Wert die DNA Sequenz\n"
      ],
      "execution_count": null,
      "outputs": []
    },
    {
      "cell_type": "code",
      "metadata": {
        "id": "rRpDyXch7ulA"
      },
      "source": [
        "# Recherchiert im Internet welche Built-in Function für das Zählen von Buchstaben hilfreich wäre."
      ],
      "execution_count": null,
      "outputs": []
    },
    {
      "cell_type": "code",
      "metadata": {
        "id": "vu5b9fg37kwT"
      },
      "source": [
        "# Zählt die Anzahl an T, A, G, C und gebt diese einzeln zurück"
      ],
      "execution_count": null,
      "outputs": []
    },
    {
      "cell_type": "code",
      "metadata": {
        "id": "1M0z8Ijz8Rlq"
      },
      "source": [
        "# G = 142\n",
        "# C = 192\n",
        "# A = 190\n",
        "# T = 176"
      ],
      "execution_count": null,
      "outputs": []
    }
  ]
}