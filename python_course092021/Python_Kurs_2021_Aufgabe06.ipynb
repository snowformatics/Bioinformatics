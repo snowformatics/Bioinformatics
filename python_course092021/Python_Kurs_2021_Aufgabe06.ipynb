{
  "nbformat": 4,
  "nbformat_minor": 0,
  "metadata": {
    "colab": {
      "name": "Python_Kurs_2021_Aufgabe06",
      "provenance": [],
      "authorship_tag": "ABX9TyOBI9hWXmW+YjdOsPr7Ro0v",
      "include_colab_link": true
    },
    "kernelspec": {
      "name": "python3",
      "display_name": "Python 3"
    },
    "language_info": {
      "name": "python"
    }
  },
  "cells": [
    {
      "cell_type": "markdown",
      "metadata": {
        "id": "view-in-github",
        "colab_type": "text"
      },
      "source": [
        "<a href=\"https://colab.research.google.com/github/snowformatics/Bioinformatics/blob/master/Python_Kurs_2021_Aufgabe06.ipynb\" target=\"_parent\"><img src=\"https://colab.research.google.com/assets/colab-badge.svg\" alt=\"Open In Colab\"/></a>"
      ]
    },
    {
      "cell_type": "code",
      "metadata": {
        "id": "B-i92qtPyCrQ"
      },
      "source": [
        "# Schreibe ein Script welches eine RNA in ein Protein umwandelt.\n",
        "\n",
        "# Hint: Suche nach der Codon Tabelle im Internet, Stopp Codon wird mit * übersetzt.\n",
        "\n",
        "# Nutze als Datenformat für die Codon Tabelle ein Dictionary\n",
        "# Beispiel \n",
        "RNA_dictionary = {\n",
        "  \"GCA\":\"A\", \"GCC\":\"A\"}\n",
        "\n",
        "# Dieses Beipiel könnte euch helfen\n",
        "# https://www.w3schools.com/python/trypython.asp?filename=demo_ref_range3"
      ],
      "execution_count": null,
      "outputs": []
    }
  ]
}