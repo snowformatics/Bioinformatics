{
  "nbformat": 4,
  "nbformat_minor": 0,
  "metadata": {
    "colab": {
      "name": "Python_Kurs_2021_Aufgabe05",
      "provenance": [],
      "authorship_tag": "ABX9TyOXwM77VHuRpbOZMM7tXUhG",
      "include_colab_link": true
    },
    "kernelspec": {
      "name": "python3",
      "display_name": "Python 3"
    },
    "language_info": {
      "name": "python"
    }
  },
  "cells": [
    {
      "cell_type": "markdown",
      "metadata": {
        "id": "view-in-github",
        "colab_type": "text"
      },
      "source": [
        "<a href=\"https://colab.research.google.com/github/snowformatics/Bioinformatics/blob/master/Python_Kurs_2021_Aufgabe05.ipynb\" target=\"_parent\"><img src=\"https://colab.research.google.com/assets/colab-badge.svg\" alt=\"Open In Colab\"/></a>"
      ]
    },
    {
      "cell_type": "code",
      "metadata": {
        "id": "C0e_HUXnxrjR"
      },
      "source": [
        "#Berechnet die Anzahl der Punktmutationen zweier Sequenzen Mithilfe der Hamming-Abstand\n",
        "#https://de.wikipedia.org/wiki/Hamming-Abstand​\n",
        "\n",
        "#Beispiel:\n",
        "\n",
        "#GAGCCTACTAACGGGAT\n",
        "#CATCGTAATGACGGCCT\n",
        "\n",
        "#Anzahl der Punktmutationen​ = 7"
      ],
      "execution_count": null,
      "outputs": []
    }
  ]
}