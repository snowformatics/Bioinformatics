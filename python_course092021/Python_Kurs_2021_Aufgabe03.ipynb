{
  "nbformat": 4,
  "nbformat_minor": 0,
  "metadata": {
    "colab": {
      "name": "Python_Kurs_2021_Aufgabe03.ipynb",
      "provenance": [],
      "collapsed_sections": [],
      "authorship_tag": "ABX9TyPzMid831M28ATXyoKCjnKg",
      "include_colab_link": true
    },
    "kernelspec": {
      "name": "python3",
      "display_name": "Python 3"
    },
    "language_info": {
      "name": "python"
    }
  },
  "cells": [
    {
      "cell_type": "markdown",
      "metadata": {
        "id": "view-in-github",
        "colab_type": "text"
      },
      "source": [
        "<a href=\"https://colab.research.google.com/github/snowformatics/Bioinformatics/blob/master/Python_Kurs_2021_Aufgabe03.ipynb\" target=\"_parent\"><img src=\"https://colab.research.google.com/assets/colab-badge.svg\" alt=\"Open In Colab\"/></a>"
      ]
    },
    {
      "cell_type": "markdown",
      "metadata": {
        "id": "b1l9vZ_6-bBG"
      },
      "source": [
        "**Komplementäre Basenpaarung**"
      ]
    },
    {
      "cell_type": "code",
      "metadata": {
        "id": "_6WvVG_B-LpA"
      },
      "source": [
        "# Recherchiert über Komplementäre Basenpaarung\n",
        "#  \"GTCA\" -> \"TGAC\""
      ],
      "execution_count": null,
      "outputs": []
    },
    {
      "cell_type": "code",
      "metadata": {
        "id": "-tGtw2m6-rR2"
      },
      "source": [
        "# Schreibt ein Programm welches die DNA Sequenz aus Aufgabe 1 rückwärts komplementiert"
      ],
      "execution_count": null,
      "outputs": []
    }
  ]
}