{
  "nbformat": 4,
  "nbformat_minor": 0,
  "metadata": {
    "colab": {
      "name": "PythonKurs_Covid_final",
      "provenance": [],
      "collapsed_sections": [],
      "authorship_tag": "ABX9TyP00uvSTL740Ui0ZuPIlibA",
      "include_colab_link": true
    },
    "kernelspec": {
      "name": "python3",
      "display_name": "Python 3"
    },
    "language_info": {
      "name": "python"
    }
  },
  "cells": [
    {
      "cell_type": "markdown",
      "metadata": {
        "id": "view-in-github",
        "colab_type": "text"
      },
      "source": [
        "<a href=\"https://colab.research.google.com/github/snowformatics/Bioinformatics/blob/master/PythonKurs_Covid_final.ipynb\" target=\"_parent\"><img src=\"https://colab.research.google.com/assets/colab-badge.svg\" alt=\"Open In Colab\"/></a>"
      ]
    },
    {
      "cell_type": "markdown",
      "metadata": {
        "id": "PKUTwNYxmCwS"
      },
      "source": [
        "Wir arbeiten final mit den Covid-19 Genom und nutzen unseren schon erarbeiteten Code.\n",
        "\n",
        "Am Besten arbeitet ihr im Notebook."
      ]
    },
    {
      "cell_type": "code",
      "metadata": {
        "id": "ByigRW8Jl8To"
      },
      "source": [
        "# 1) Ladet euch die Sequenz runter\n",
        "# https://transfer.ipk-gatersleben.de/upload2/Dcjrj6RO/COVID-19_genome_sequence%20.txt"
      ],
      "execution_count": null,
      "outputs": []
    },
    {
      "cell_type": "code",
      "metadata": {
        "id": "heM2dJh6mRmT"
      },
      "source": [
        "# 2) Zählt die Anzahl der DNA Nukleotide im Covid-19 Genom (Aufagbe 1 gestern)"
      ],
      "execution_count": null,
      "outputs": []
    },
    {
      "cell_type": "code",
      "metadata": {
        "colab": {
          "base_uri": "https://localhost:8080/",
          "height": 336
        },
        "id": "bWHOimMGkPlB",
        "outputId": "97d0bc94-ae93-4b90-924f-97a5263fe5f2"
      },
      "source": [
        "# 3) Hier habt ihr ein Beipiel für einen Balkendiagramm.\n",
        "# Passt es so an, dass die Anzahl der DNA Nukleotide gezeigt wird. Ändert auch die Namen der Variablen \"langs\" und \"student\", in eine sinnvolle Bezeichnung für euer Projekt. \n",
        "\n",
        "import matplotlib.pyplot as plt\n",
        "fig = plt.figure()\n",
        "ax = fig.add_axes([0,0,1,1])\n",
        "langs = ['C', 'C++', 'Java', 'Python', 'PHP']\n",
        "students = [23,17,35,29,12]\n",
        "ax.bar(langs,students)\n",
        "plt.show()"
      ],
      "execution_count": null,
      "outputs": [
        {
          "output_type": "display_data",
          "data": {
            "image/png": "[encoded data removed]",
            "text/plain": [
              "<Figure size 432x288 with 1 Axes>"
            ]
          },
          "metadata": {
            "needs_background": "light"
          }
        }
      ]
    },
    {
      "cell_type": "code",
      "metadata": {
        "id": "sDGBWVgenntH"
      },
      "source": [
        "# 4) Berechnet den GC Content (Aufgabe 4 gestern)"
      ],
      "execution_count": null,
      "outputs": []
    },
    {
      "cell_type": "code",
      "metadata": {
        "id": "Fatktxm4nB58"
      },
      "source": [
        "# 5) Schreibt die Covid-19 DNA in RNA um. (Aufgabe 2 gestern)"
      ],
      "execution_count": null,
      "outputs": []
    },
    {
      "cell_type": "code",
      "metadata": {
        "id": "XTP2m6-GnW6c"
      },
      "source": [
        "# 6) Schreibt die Covid-19 RNA in Protein um. (Aufgabe 6 heute)"
      ],
      "execution_count": null,
      "outputs": []
    },
    {
      "cell_type": "code",
      "metadata": {
        "id": "4tPwkcE9rVMO"
      },
      "source": [
        "# 7) Sucht mit der Protein Sequenz in einer BLAST Datenbank \n",
        "# https://www.ebi.ac.uk/Tools/sss/psiblast/\n",
        "# Kopiert die Protein Sequenz in das Feld von Step2 und drückt Submit (ganz unten, Step 4). Alles andere könnt ihr als default lassen.\n",
        "\n",
        "# Welche Hits bekommt ihr zurück? Welche Spezies?"
      ],
      "execution_count": null,
      "outputs": []
    }
  ]
}