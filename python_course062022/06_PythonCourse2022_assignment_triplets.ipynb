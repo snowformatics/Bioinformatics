{
  "nbformat": 4,
  "nbformat_minor": 0,
  "metadata": {
    "colab": {
      "name": "PythonCourse2022_assignment06.ipynb",
      "provenance": [],
      "collapsed_sections": []
    },
    "kernelspec": {
      "name": "python3",
      "display_name": "Python 3"
    },
    "language_info": {
      "name": "python"
    }
  },
  "cells": [
    {
      "cell_type": "markdown",
      "metadata": {
        "id": "IjW6iygW513_"
      },
      "source": [
        "\n",
        "\n",
        "### **Assignment 6: Extracting triplets**\n",
        "\n",
        "\n"
      ]
    },
    {
      "cell_type": "code",
      "metadata": {
        "id": "vu5b9fg37kwT"
      },
      "source": [
        "# Extract the triplet at position 1\n",
        "s = 'GAGCCTACTAACGGGAT' \n",
        "# Hints:\n",
        "# Define a variable position\n",
        "# The slicing correspond to [position:position+length_of_triplet]\n",
        "# You should return AGC as a result\n"
      ],
      "execution_count": null,
      "outputs": []
    },
    {
      "cell_type": "code",
      "source": [
        "# Extract the triplet at position 5\n",
        "s = 'GAGCCTACTAACGGGAT' \n",
        "# You should return TAC as a result\n"
      ],
      "metadata": {
        "id": "3cbXrbZi2iVN"
      },
      "execution_count": 3,
      "outputs": []
    },
    {
      "cell_type": "code",
      "source": [
        "# Search how to reverse a string in Python.\n",
        "# Reverse the codons at positions 1 and 5\n",
        "# AGC should return CGA\n",
        "# TAC should return CAT"
      ],
      "metadata": {
        "id": "lSE77Jft3q8K"
      },
      "execution_count": null,
      "outputs": []
    }
  ]
}