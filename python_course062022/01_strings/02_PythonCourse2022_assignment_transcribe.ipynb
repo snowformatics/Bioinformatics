{
  "nbformat": 4,
  "nbformat_minor": 0,
  "metadata": {
    "colab": {
      "name": "PythonCourse2022_assignment02.ipynb",
      "provenance": [],
      "collapsed_sections": []
    },
    "kernelspec": {
      "name": "python3",
      "display_name": "Python 3"
    },
    "language_info": {
      "name": "python"
    }
  },
  "cells": [
    {
      "cell_type": "markdown",
      "metadata": {
        "id": "IjW6iygW513_"
      },
      "source": [
        "\n",
        "\n",
        "### **Assignment 2: Transcribe DNA into RNA**\n",
        "\n",
        "Transcribe the DNA sequence below into RNA:\n",
        "\n",
        "CACAAACACAGCAACTAATCCACCAGTAGCTTGAGAAGATGAGCACAATCTCACAGTGACTATAAGCAGT\n",
        "ACACAGCGCCAGTCAACAACAATAACTATCATCTGAGAAATTCAGGGAAATACTCGACGTACACTAGAAA\n",
        "AATATATCGTAGGACCATCGTCCTCATCTCCTTCCCGAGTTCCCATGTCTTTGGCTGCGGAAATAGCTGA\n",
        "GGAGAACCTGCGCCTTTTCTCTTGCGCGTGGTGTTCCTGACTGTGACAGTGCGACTAAAGGGGGCACGGC\n",
        "ATCCTCTTGAAGAACTATGTTGCAAAACCTGCTGCTGTTTGTGCATAGCTGAAGCAATGCCGCGGTAGCA\n",
        "TTTTCCTTCGCTTTCGCTGAACCCAGTTCGACAACTTCAACAAGGGCCGGAATACCACGCGCCTGCCCAA\n",
        "TCGCAGTCCTTCCTTCTGGTATCGTAGCAAGATTTGCCAAGACAGCTACAGCTTTATCGACCATTCCAGC\n",
        "AGCAGGGTCCATAAGCTCAACTAGGTGCTTCAATGCATCAGCTTGCACAATTCGACCCTTGTTCTCATGA\n",
        "AGTATGGATAAATTAAACAATGCAGTAACCGCATCTTTCTTTCCTCGTGGGCTCCCATTTCCCAGCAAGT\n",
        "CCACGAGAGGCTTTACAGCACCAGATCGCCCTATCCTCACTCTGTTTTCTTCAATAATTGAGAGACTGAA\n",
        "\n",
        "\n"
      ]
    },
    {
      "cell_type": "code",
      "metadata": {
        "id": "Kl5js6Ib5yNJ"
      },
      "source": [
        "# If required, refresh about DNA Transcription. "
      ],
      "execution_count": null,
      "outputs": []
    },
    {
      "cell_type": "code",
      "metadata": {
        "id": "rRpDyXch7ulA"
      },
      "source": [
        "# Search in the Python reference or in a search engine for a method which could be useful for this task.\n",
        "# https://www.w3schools.com/python/python_strings_methods.asp"
      ],
      "execution_count": null,
      "outputs": []
    },
    {
      "cell_type": "code",
      "metadata": {
        "id": "vu5b9fg37kwT"
      },
      "source": [
        "# Transcribe the DNA into RNA"
      ],
      "execution_count": null,
      "outputs": []
    }
  ]
}