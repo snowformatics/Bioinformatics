{
  "nbformat": 4,
  "nbformat_minor": 0,
  "metadata": {
    "colab": {
      "name": "ligation_calculator.ipynb",
      "provenance": [],
      "collapsed_sections": []
    },
    "kernelspec": {
      "name": "python3",
      "display_name": "Python 3"
    },
    "language_info": {
      "name": "python"
    }
  },
  "cells": [
    {
      "cell_type": "code",
      "execution_count": null,
      "metadata": {
        "id": "R2syrzvunEA4"
      },
      "outputs": [],
      "source": [
        "# Write a program to calculate a DNA ligation reaction:\n",
        "\n",
        "# Molecular ration of 3\n",
        "\n",
        "# 500 bp insert, 3000 bp vector\n",
        "\n",
        "\n",
        "# 30 ng/µL insert concentration\n",
        "\n",
        "# 50 ng/µL vector concentration\n",
        "\n",
        "\n",
        "# How many µL of insert and vector you need if the total reaction volume is 10 µL?"
      ]
    },
    {
      "cell_type": "code",
      "source": [
        ""
      ],
      "metadata": {
        "id": "L0YgOldFneSs"
      },
      "execution_count": null,
      "outputs": []
    }
  ]
}