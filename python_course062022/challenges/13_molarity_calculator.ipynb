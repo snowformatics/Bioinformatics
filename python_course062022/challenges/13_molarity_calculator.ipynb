{
  "nbformat": 4,
  "nbformat_minor": 0,
  "metadata": {
    "colab": {
      "name": "molarity_calculator.ipynb",
      "provenance": [],
      "collapsed_sections": []
    },
    "kernelspec": {
      "name": "python3",
      "display_name": "Python 3"
    },
    "language_info": {
      "name": "python"
    }
  },
  "cells": [
    {
      "cell_type": "code",
      "execution_count": 1,
      "metadata": {
        "id": "b3v00znHyAE3"
      },
      "outputs": [],
      "source": [
        "# Write a programm, which calculates mass required for molar solution"
      ]
    },
    {
      "cell_type": "code",
      "source": [
        "# Calculate the mass to make a 1L NaCl solution with 0.5 mol/L"
      ],
      "metadata": {
        "id": "GQW0LRrgyYTE"
      },
      "execution_count": null,
      "outputs": []
    }
  ]
}