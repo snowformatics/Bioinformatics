{
  "nbformat": 4,
  "nbformat_minor": 0,
  "metadata": {
    "colab": {
      "name": "PythonCourse2022_assignment_codon_05.ipynb",
      "provenance": [],
      "collapsed_sections": []
    },
    "kernelspec": {
      "name": "python3",
      "display_name": "Python 3"
    },
    "language_info": {
      "name": "python"
    }
  },
  "cells": [
    {
      "cell_type": "markdown",
      "metadata": {
        "id": "IjW6iygW513_"
      },
      "source": [
        "\n",
        "\n",
        "### **Assignment 5: Create an inverse RNA codon table.**\n",
        "\n",
        "Create a inverse RNA codon dictionary, example:\n",
        "\n",
        "\n",
        "\n",
        "\n",
        "```\n",
        "RNA_dictionary = {\n",
        "                  \"GCA\":\"A\",\n",
        "                  \"UAG\":\"*\"\n",
        "                 }\n",
        "```\n",
        "\n",
        "\n",
        "\n",
        "\n",
        "\n",
        "\n"
      ]
    },
    {
      "cell_type": "code",
      "metadata": {
        "id": "Kl5js6Ib5yNJ"
      },
      "source": [
        "# If required, refresh about codon tables and search for the table."
      ],
      "execution_count": null,
      "outputs": []
    },
    {
      "cell_type": "code",
      "metadata": {
        "id": "vu5b9fg37kwT"
      },
      "source": [
        "# Create a complete inverse RNA codon table and make sure to store the notebook (we need it later)."
      ],
      "execution_count": null,
      "outputs": []
    },
    {
      "cell_type": "code",
      "source": [
        "# Search in the Python reference for a method that will return a list of all the keys in the dictionary.\n",
        "# https://www.w3schools.com/python/python_dictionaries_access.asp"
      ],
      "metadata": {
        "id": "BzfYI6d2x412"
      },
      "execution_count": 1,
      "outputs": []
    },
    {
      "cell_type": "code",
      "source": [
        "# Print out all keys of your codon dictionary."
      ],
      "metadata": {
        "id": "JNTjFA0fyV-A"
      },
      "execution_count": null,
      "outputs": []
    }
  ]
}