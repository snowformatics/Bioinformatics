{
  "nbformat": 4,
  "nbformat_minor": 0,
  "metadata": {
    "colab": {
      "name": "PythonCourse2022_assignment_07_transcribe.ipynb",
      "provenance": [],
      "collapsed_sections": []
    },
    "kernelspec": {
      "name": "python3",
      "display_name": "Python 3"
    },
    "language_info": {
      "name": "python"
    }
  },
  "cells": [
    {
      "cell_type": "markdown",
      "metadata": {
        "id": "IjW6iygW513_"
      },
      "source": [
        "\n",
        "\n",
        "### **Assignment 7: Transcribe DNA into RNA**\n",
        "\n",
        "Reverse complement the DNA sequence below:\n",
        "\n",
        "CACAAACACAGCAACTAATCCACCAGTAGCTTGAGAAGATGAGCACAATCTCACAGTGACTATAAGCAGT\n",
        "ACACAGCGCCAGTCAACAACAATAACTATCATCTGAGAAATTCAGGGAAATACTCGACGTACACTAGAAA\n",
        "AATATATCGTAGGACCATCGTCCTCATCTCCTTCCCGAGTTCCCATGTCTTTGGCTGCGGAAATAGCTGA\n",
        "GGAGAACCTGCGCCTTTTCTCTTGCGCGTGGTGTTCCTGACTGTGACAGTGCGACTAAAGGGGGCACGGC\n",
        "ATCCTCTTGAAGAACTATGTTGCAAAACCTGCTGCTGTTTGTGCATAGCTGAAGCAATGCCGCGGTAGCA\n",
        "TTTTCCTTCGCTTTCGCTGAACCCAGTTCGACAACTTCAACAAGGGCCGGAATACCACGCGCCTGCCCAA\n",
        "TCGCAGTCCTTCCTTCTGGTATCGTAGCAAGATTTGCCAAGACAGCTACAGCTTTATCGACCATTCCAGC\n",
        "AGCAGGGTCCATAAGCTCAACTAGGTGCTTCAATGCATCAGCTTGCACAATTCGACCCTTGTTCTCATGA\n",
        "AGTATGGATAAATTAAACAATGCAGTAACCGCATCTTTCTTTCCTCGTGGGCTCCCATTTCCCAGCAAGT\n",
        "CCACGAGAGGCTTTACAGCACCAGATCGCCCTATCCTCACTCTGTTTTCTTCAATAATTGAGAGACTGAA\n",
        "\n",
        "\n"
      ]
    },
    {
      "cell_type": "code",
      "metadata": {
        "id": "Kl5js6Ib5yNJ"
      },
      "source": [
        ""
      ],
      "execution_count": null,
      "outputs": []
    },
    {
      "cell_type": "code",
      "metadata": {
        "id": "vu5b9fg37kwT"
      },
      "source": [
        "# Hints:\n",
        "# If required, refresh about complementary base pairing. \n",
        "# You need two variables for this task\n",
        "# Loops and if conditions can be helpful\n",
        "# We need the reverse complement, search in internet how you can reverse a string."
      ],
      "execution_count": null,
      "outputs": []
    },
    {
      "cell_type": "code",
      "source": [
        "# Code hint\n",
        "\n",
        "sequence = 'C'\n",
        "nucleotide = 'T'\n",
        "sequence = sequence + nucleotide\n",
        "print (sequence)\n"
      ],
      "metadata": {
        "colab": {
          "base_uri": "https://localhost:8080/"
        },
        "id": "RlVlIWdo8Wo3",
        "outputId": "5340f607-6022-40af-9520-4e082df8d7df"
      },
      "execution_count": 2,
      "outputs": [
        {
          "output_type": "stream",
          "name": "stdout",
          "text": [
            "CT\n"
          ]
        }
      ]
    }
  ]
}