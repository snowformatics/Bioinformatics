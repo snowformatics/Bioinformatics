{
  "nbformat": 4,
  "nbformat_minor": 0,
  "metadata": {
    "colab": {
      "name": "PythonCourse2022_assignment_08_mutation.ipynb",
      "provenance": [],
      "collapsed_sections": []
    },
    "kernelspec": {
      "name": "python3",
      "display_name": "Python 3"
    },
    "language_info": {
      "name": "python"
    }
  },
  "cells": [
    {
      "cell_type": "markdown",
      "metadata": {
        "id": "IjW6iygW513_"
      },
      "source": [
        "\n",
        "\n",
        "### **Assignment 8: Point Mutations**\n",
        "\n",
        "Calculate the number of point mutations of this two sequences:\n",
        "\n",
        "seq1 = 'GAGCCTACTAACGGGAT'\n",
        "\n",
        "seq2 = 'CATCGTAATGACGGCCT'\n",
        "\n",
        "\n",
        "\n",
        "```\n",
        "GAGCCTACTAACGGGAT\n",
        ".|.|.||.|.||||..|\n",
        "CATCGTAATGACGGCCT\n",
        "```\n",
        "Number of point mutation is 7.\n",
        "\n",
        "\n",
        "\n"
      ]
    },
    {
      "cell_type": "code",
      "metadata": {
        "id": "vu5b9fg37kwT"
      },
      "source": [
        "# Hints: \n",
        "# Loops and if conditions can be helpful.\n",
        "# The range() and len() functions can be helpful.\n"
      ],
      "execution_count": null,
      "outputs": []
    }
  ]
}