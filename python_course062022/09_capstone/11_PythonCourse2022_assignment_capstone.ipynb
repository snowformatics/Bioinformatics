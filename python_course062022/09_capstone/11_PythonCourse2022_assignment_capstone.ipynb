{
  "nbformat": 4,
  "nbformat_minor": 0,
  "metadata": {
    "colab": {
      "name": "PythonCourse2022_assignment_capstone_11.ipynb",
      "provenance": [],
      "collapsed_sections": []
    },
    "kernelspec": {
      "name": "python3",
      "display_name": "Python 3"
    },
    "language_info": {
      "name": "python"
    }
  },
  "cells": [
    {
      "cell_type": "markdown",
      "metadata": {
        "id": "IjW6iygW513_"
      },
      "source": [
        "\n",
        "\n",
        "### **Assignment 11: Capstone project.**\n",
        "\n",
        "We will analyse the Covid-19 sequence and recap what we have learned.\n",
        "Use your notebooks with the assignments and reuse your code.\n",
        "\n",
        "\n",
        "\n",
        "\n",
        "\n",
        "\n"
      ]
    },
    {
      "cell_type": "code",
      "metadata": {
        "id": "Kl5js6Ib5yNJ"
      },
      "source": [
        "# Upload the COVID-19 sequence file (covid.txt) to colab and read out the sequence."
      ],
      "execution_count": null,
      "outputs": []
    },

    {
      "cell_type": "code",
      "source": [
        "# Count the number of DNA nucleotides"
      ],
      "metadata": {
        "id": "_iabO4HvHfza"
      },
      "execution_count": 2,
      "outputs": []
    },
    {
      "cell_type": "code",
      "source": [
        "# Here is an example of plotting a bar chart in Python:\n",
        "import matplotlib.pyplot as plt\n",
        "fig = plt.figure()\n",
        "ax = fig.add_axes([0,0,1,1])\n",
        "languages = ['C', 'C++', 'Java', 'Python', 'PHP']\n",
        "students = [23,17,35,29,12]\n",
        "ax.bar(languages,students)\n",
        "plt.show()"
      ],
      "metadata": {
        "id": "OUUameWvHvsI"
      },
      "execution_count": null,
      "outputs": []
    },
    {
      "cell_type": "code",
      "source": [
        "# Rename and change the variables languages and students and create a barchart with the nucleotide frequencies of the covid-19 sequence."
      ],
      "metadata": {
        "id": "xjEAqUvDH8jG"
      },
      "execution_count": 4,
      "outputs": []
    },
    {
      "cell_type": "code",
      "source": [
        "# Calculate the GC content of the covid-19 sequence."
      ],
      "metadata": {
        "id": "TJjue-ITITAM"
      },
      "execution_count": 5,
      "outputs": []
    },
    {
      "cell_type": "code",
      "source": [
        "# Transcribe the covid-19 DNA sequence into RNA."
      ],
      "metadata": {
        "id": "UN7IYEjnIbzB"
      },
      "execution_count": 6,
      "outputs": []
    },
    {
      "cell_type": "code",
      "source": [
        "# Translate covid-19 RNA into protein sequence."
      ],
      "metadata": {
        "id": "sCpSfDq5Ik0S"
      },
      "execution_count": 7,
      "outputs": []
    },
    {
      "cell_type": "code",
      "source": [
        "# Use the protein sequence inside a BLAST database. \n",
        "# https://www.ebi.ac.uk/Tools/sss/psiblast/\n",
        "# Copy the protein sequence inside the field of STEP2 and press SUBMIT (STEP4).\n",
        "# Check out the results and the hits."
      ],
      "metadata": {
        "id": "fKJMH-GCIurQ"
      },
      "execution_count": 8,
      "outputs": []
    },
    {
      "cell_type": "code",
      "source": [
        ""
      ],
      "metadata": {
        "id": "wux0bC6kJWJs"
      },
      "execution_count": null,
      "outputs": []
    }
  ]
}