{
  "nbformat": 4,
  "nbformat_minor": 0,
  "metadata": {
    "colab": {
      "name": "PythonCourse2022_assignment00.ipynb",
      "provenance": [],
      "collapsed_sections": []
    },
    "kernelspec": {
      "name": "python3",
      "display_name": "Python 3"
    },
    "language_info": {
      "name": "python"
    }
  },
  "cells": [
    {
      "cell_type": "markdown",
      "metadata": {
        "id": "IjW6iygW513_"
      },
      "source": [
        "\n",
        "\n",
        "### **Assignment : Lists**\n",
        "\n",
        "\n"
      ]
    },
    {
      "cell_type": "code",
      "source": [
        "# Reference\n",
        "# https://www.w3schools.com/python/python_lists.asp"
      ],
      "metadata": {
        "id": "Ck3MWCjaO2R3"
      },
      "execution_count": null,
      "outputs": []
    },
    {
      "cell_type": "code",
      "metadata": {
        "id": "vu5b9fg37kwT"
      },
      "source": [
        "# Convert a string to a list using the list() constructor (see reference).\n",
        "sequence = 'GAGCCTACTAACGGGAT' "
      ],
      "execution_count": null,
      "outputs": []
    },
    {
      "cell_type": "code",
      "source": [
        "# Search in the reference for a method, to sort a list.\n",
        "# Sort the sequence_list\n",
        "sequence_list = ['G', 'A', 'G', 'C', 'C', 'T', 'A', 'C', 'T', 'A', 'A', 'C', 'G', 'G', 'G', 'A', 'T']"
      ],
      "metadata": {
        "id": "3cbXrbZi2iVN"
      },
      "execution_count": null,
      "outputs": []
    }
  ]
}