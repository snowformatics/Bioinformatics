{
  "nbformat": 4,
  "nbformat_minor": 0,
  "metadata": {
    "colab": {
      "name": "PythonCourse2022_assignment_09_files.ipynb",
      "provenance": [],
      "collapsed_sections": []
    },
    "kernelspec": {
      "name": "python3",
      "display_name": "Python 3"
    },
    "language_info": {
      "name": "python"
    }
  },
  "cells": [
    {
      "cell_type": "markdown",
      "metadata": {
        "id": "IjW6iygW513_"
      },
      "source": [
        "\n",
        "\n",
        "### **Assignment 9: Convert a CSV file to FASTA file.**\n",
        "\n",
        "Content of the CSV file:\n",
        "\n",
        "```\n",
        "ID1      ACTGTATGCATGTCAGTCATG\n",
        "ID2      GTCAGGTCAGTACGTACGTATATG\n",
        "```\n",
        "The content of the FASTA File should look like this:\n",
        "\n",
        "```\n",
        ">ID1      \n",
        "ACTGTATGCATGTCAGTCATG\n",
        ">ID2\n",
        "GTCAGGTCAGTACGTACGTATATG\n",
        "```\n",
        "\n",
        "Escape sequences hints:\n",
        "\n",
        "\n",
        "```\n",
        "\\n - meaning a new line\n",
        "\\t - meaning horizontal tab (tab delimited)\n",
        "```\n",
        "\n",
        "\n",
        "\n",
        "\n"
      ]
    },
    {
      "cell_type": "code",
      "metadata": {
        "id": "vu5b9fg37kwT"
      },
      "source": [
        "# Open the CSV file, the file is called csv_example.csv\n",
        "# Read the content of the CSV file line by line and print it out.\n",
        "# Inspect escape sequences."
      ],
      "execution_count": null,
      "outputs": []
    },
    {
      "cell_type": "code",
      "source": [
        "# Loop over the lines\n",
        "# Remove the spaces.\n",
        "# Split the lines by using the split() function the CSV seperator split(\\t)."
      ],
      "metadata": {
        "id": "xYnqus-xAgQw"
      },
      "execution_count": null,
      "outputs": []
    },
    {
      "cell_type": "code",
      "source": [
        "# Print out line [0] and line[1] inside the loop."
      ],
      "metadata": {
        "id": "WDGkkVK2CTxx"
      },
      "execution_count": null,
      "outputs": []
    },
    {
      "cell_type": "code",
      "source": [
        "# Open a new file in write mode and use the ending fasta (e.g. test.fasta)"
      ],
      "metadata": {
        "id": "QyyoDb9JBY_R"
      },
      "execution_count": null,
      "outputs": []
    },
    {
      "cell_type": "code",
      "source": [
        "# Use your loop to write each line inside the new fasta file.\n",
        "# Don't forget to add a greater-than in front of the ID.\n",
        "# Don't forget to add a new line escape sequences after the ID and the sequence by using (\\n)."
      ],
      "metadata": {
        "id": "ANsgTqayBzum"
      },
      "execution_count": null,
      "outputs": []
    },
    {
      "cell_type": "code",
      "source": [
        "# Close the file and open it inside a text editor."
      ],
      "metadata": {
        "id": "p_yONvmTCoA4"
      },
      "execution_count": null,
      "outputs": []
    }
  ]
}