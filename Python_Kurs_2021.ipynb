{
  "nbformat": 4,
  "nbformat_minor": 0,
  "metadata": {
    "colab": {
      "name": "Python_Kurs_2021.ipynb",
      "provenance": [],
      "collapsed_sections": [],
      "authorship_tag": "ABX9TyPcjYCIAqGe2TpzC48R6kxM",
      "include_colab_link": true
    },
    "kernelspec": {
      "name": "python3",
      "display_name": "Python 3"
    },
    "language_info": {
      "name": "python"
    }
  },
  "cells": [
    {
      "cell_type": "markdown",
      "metadata": {
        "id": "view-in-github",
        "colab_type": "text"
      },
      "source": [
        "<a href=\"https://colab.research.google.com/github/snowformatics/Bioinformatics/blob/master/Python_Kurs_2021.ipynb\" target=\"_parent\"><img src=\"https://colab.research.google.com/assets/colab-badge.svg\" alt=\"Open In Colab\"/></a>"
      ]
    },
    {
      "cell_type": "markdown",
      "metadata": {
        "id": "5eRROA53-ZWa"
      },
      "source": [
        "**Python Kurs 09.09.2021**\n"
      ]
    },
    {
      "cell_type": "markdown",
      "metadata": {
        "id": "x0hWyt6854hE"
      },
      "source": [
        "Nützliche Infos:\n",
        "\n",
        "https://www.python.org/\n",
        "\n",
        "https://www.w3schools.com/python/default.asp"
      ]
    },
    {
      "cell_type": "markdown",
      "metadata": {
        "id": "7GC3vpUg3NPP"
      },
      "source": [
        "***Numbers***"
      ]
    },
    {
      "cell_type": "code",
      "metadata": {
        "colab": {
          "base_uri": "https://localhost:8080/",
          "height": 0
        },
        "id": "72gkPTq53U1v",
        "outputId": "6a06fdf0-75e0-492b-f7e3-364077b489ab"
      },
      "source": [
        "a = 1\n",
        "print(a)"
      ],
      "execution_count": 5,
      "outputs": [
        {
          "output_type": "stream",
          "name": "stdout",
          "text": [
            "1\n"
          ]
        }
      ]
    },
    {
      "cell_type": "markdown",
      "metadata": {
        "id": "2d2INNSs3ZOu"
      },
      "source": [
        "**Strings**"
      ]
    },
    {
      "cell_type": "code",
      "metadata": {
        "colab": {
          "base_uri": "https://localhost:8080/",
          "height": 0
        },
        "id": "bmzjz0lU3j7G",
        "outputId": "2c4d9b27-4e00-49a3-84ca-897ec8b7e157"
      },
      "source": [
        "b = 'hello'\n",
        "print(b)"
      ],
      "execution_count": 6,
      "outputs": [
        {
          "output_type": "stream",
          "name": "stdout",
          "text": [
            "hello\n"
          ]
        }
      ]
    },
    {
      "cell_type": "markdown",
      "metadata": {
        "id": "3BhUA0Fi3l-b"
      },
      "source": [
        "**Lists**"
      ]
    },
    {
      "cell_type": "code",
      "metadata": {
        "colab": {
          "base_uri": "https://localhost:8080/",
          "height": 0
        },
        "id": "HMyBc-BY3oxk",
        "outputId": "a53dff75-eaab-48b8-deb3-cda3916db44c"
      },
      "source": [
        "c = [1,2,3,'hello']\n",
        "print (c)"
      ],
      "execution_count": 7,
      "outputs": [
        {
          "output_type": "stream",
          "name": "stdout",
          "text": [
            "[1, 2, 3, 'hello']\n"
          ]
        }
      ]
    },
    {
      "cell_type": "markdown",
      "metadata": {
        "id": "O9LDWOba3oNM"
      },
      "source": [
        "**Sets**"
      ]
    },
    {
      "cell_type": "code",
      "metadata": {
        "colab": {
          "base_uri": "https://localhost:8080/",
          "height": 0
        },
        "id": "PSuiD_W93vuM",
        "outputId": "708a7802-19be-43b7-c1ad-cb84f683284c"
      },
      "source": [
        "s = set([1,1,2,3])\n",
        "print (s)"
      ],
      "execution_count": 8,
      "outputs": [
        {
          "output_type": "stream",
          "name": "stdout",
          "text": [
            "{1, 2, 3}\n"
          ]
        }
      ]
    },
    {
      "cell_type": "markdown",
      "metadata": {
        "id": "eMdVF8VB3mDr"
      },
      "source": [
        "**Tupel**"
      ]
    },
    {
      "cell_type": "code",
      "metadata": {
        "colab": {
          "base_uri": "https://localhost:8080/",
          "height": 0
        },
        "id": "VauOTxaQ4Wf4",
        "outputId": "6edf3c79-3373-4ed3-d615-d660044fcb5c"
      },
      "source": [
        "t = ('one', 'two', 'three')\n",
        "print (t)"
      ],
      "execution_count": 9,
      "outputs": [
        {
          "output_type": "stream",
          "name": "stdout",
          "text": [
            "('one', 'two', 'three')\n"
          ]
        }
      ]
    },
    {
      "cell_type": "markdown",
      "metadata": {
        "id": "1CSazm4o4jce"
      },
      "source": [
        "**Dictionaries**"
      ]
    },
    {
      "cell_type": "code",
      "metadata": {
        "colab": {
          "base_uri": "https://localhost:8080/",
          "height": 0
        },
        "id": "in0_tS2t4baW",
        "outputId": "cf922413-2a0c-4fbf-c70b-86609a5d45c2"
      },
      "source": [
        "d = {\n",
        "  \"brand\": \"Ford\",\n",
        "  \"model\": \"Mustang\",\n",
        "  \"year\": 1964\n",
        "}\n",
        "print (d)"
      ],
      "execution_count": 10,
      "outputs": [
        {
          "output_type": "stream",
          "name": "stdout",
          "text": [
            "{'brand': 'Ford', 'model': 'Mustang', 'year': 1964}\n"
          ]
        }
      ]
    },
    {
      "cell_type": "markdown",
      "metadata": {
        "id": "QVZNkzSx44pn"
      },
      "source": [
        "**Boolean** "
      ]
    },
    {
      "cell_type": "code",
      "metadata": {
        "colab": {
          "base_uri": "https://localhost:8080/",
          "height": 0
        },
        "id": "NeV6ICmi4wkv",
        "outputId": "ae4484a4-3052-48cf-8b1d-d1e05760c3f9"
      },
      "source": [
        "print (1>2)"
      ],
      "execution_count": 11,
      "outputs": [
        {
          "output_type": "stream",
          "name": "stdout",
          "text": [
            "False\n"
          ]
        }
      ]
    },
    {
      "cell_type": "markdown",
      "metadata": {
        "id": "6d6S7_hz5NXe"
      },
      "source": [
        "***Variable Type***"
      ]
    },
    {
      "cell_type": "code",
      "metadata": {
        "colab": {
          "base_uri": "https://localhost:8080/",
          "height": 0
        },
        "id": "TcVnMZ5u5Rmu",
        "outputId": "a894d597-8158-41f4-ad7b-03a96a5b96d9"
      },
      "source": [
        "x = float(1)   \n",
        "y = int(2.8)  \n",
        "z = int(\"3\")\n",
        "\n",
        "print (x, y, z)"
      ],
      "execution_count": 12,
      "outputs": [
        {
          "output_type": "stream",
          "name": "stdout",
          "text": [
            "1.0 2 3\n"
          ]
        }
      ]
    },
    {
      "cell_type": "markdown",
      "metadata": {
        "id": "IysVlAh45fyG"
      },
      "source": [
        "**Built-in Functions**"
      ]
    },
    {
      "cell_type": "code",
      "metadata": {
        "colab": {
          "base_uri": "https://localhost:8080/",
          "height": 0
        },
        "id": "hTkP6y_55X2m",
        "outputId": "ad31b833-3e0b-497b-a566-ef9a325aafd6"
      },
      "source": [
        "print (len(b))"
      ],
      "execution_count": 13,
      "outputs": [
        {
          "output_type": "stream",
          "name": "stdout",
          "text": [
            "5\n"
          ]
        }
      ]
    },
    {
      "cell_type": "code",
      "metadata": {
        "colab": {
          "base_uri": "https://localhost:8080/",
          "height": 0
        },
        "id": "34clVq4H6ItR",
        "outputId": "1def9501-81f3-4e4d-ee47-6c17dcea45a1"
      },
      "source": [
        "print (min(s), max(s))"
      ],
      "execution_count": 15,
      "outputs": [
        {
          "output_type": "stream",
          "name": "stdout",
          "text": [
            "1 3\n"
          ]
        }
      ]
    },
    {
      "cell_type": "markdown",
      "metadata": {
        "id": "kRI7_uPd6tPf"
      },
      "source": [
        "**Slicing**"
      ]
    },
    {
      "cell_type": "code",
      "metadata": {
        "colab": {
          "base_uri": "https://localhost:8080/",
          "height": 0
        },
        "id": "7HLL7bEl6PBI",
        "outputId": "c102f25e-bff1-43bb-f6bd-077c9b389735"
      },
      "source": [
        "b = \"Hello, World!\"\n",
        "print(b[2:5])\n",
        "print(b[:5])\n",
        "print(b[2:])\n",
        "print(b[-1])"
      ],
      "execution_count": 19,
      "outputs": [
        {
          "output_type": "stream",
          "name": "stdout",
          "text": [
            "llo\n",
            "Hello\n",
            "llo, World!\n",
            "!\n"
          ]
        }
      ]
    },
    {
      "cell_type": "code",
      "metadata": {
        "colab": {
          "base_uri": "https://localhost:8080/",
          "height": 0
        },
        "id": "1Jt9Lsvn6v6t",
        "outputId": "4beead4d-6b2b-4be8-b8a1-df5dd463a7ad"
      },
      "source": [
        "b = list(\"Hello, World!\")\n",
        "print (b)\n",
        "print(b[2:5])\n",
        "print(b[:5])\n",
        "print(b[2:])\n",
        "print(b[-1])"
      ],
      "execution_count": 20,
      "outputs": [
        {
          "output_type": "stream",
          "name": "stdout",
          "text": [
            "['H', 'e', 'l', 'l', 'o', ',', ' ', 'W', 'o', 'r', 'l', 'd', '!']\n",
            "['l', 'l', 'o']\n",
            "['H', 'e', 'l', 'l', 'o']\n",
            "['l', 'l', 'o', ',', ' ', 'W', 'o', 'r', 'l', 'd', '!']\n",
            "!\n"
          ]
        }
      ]
    },
    {
      "cell_type": "markdown",
      "metadata": {
        "id": "wc7SoMXm7GbS"
      },
      "source": [
        "**Fun with Strings**"
      ]
    },
    {
      "cell_type": "code",
      "metadata": {
        "colab": {
          "base_uri": "https://localhost:8080/",
          "height": 0
        },
        "id": "XJutMG8865UL",
        "outputId": "d2933410-a917-47bd-bab0-d450141069ac"
      },
      "source": [
        "a = \"Hello, World!\"\n",
        "print(a.upper())\n",
        "print(a.replace(\"H\", \"J\"))\n",
        "print(a.split(\",\"))"
      ],
      "execution_count": 23,
      "outputs": [
        {
          "output_type": "stream",
          "name": "stdout",
          "text": [
            "HELLO, WORLD!\n",
            "Jello, World!\n",
            "['Hello', ' World!']\n"
          ]
        }
      ]
    },
    {
      "cell_type": "code",
      "metadata": {
        "colab": {
          "base_uri": "https://localhost:8080/",
          "height": 0
        },
        "id": "iCHqxs_X7Lca",
        "outputId": "6ed7f17e-3392-4f11-885d-e2088936be37"
      },
      "source": [
        "a = \"Hello\"\n",
        "b = \"World\"\n",
        "c = a + b\n",
        "print(c)"
      ],
      "execution_count": 24,
      "outputs": [
        {
          "output_type": "stream",
          "name": "stdout",
          "text": [
            "HelloWorld\n"
          ]
        }
      ]
    },
    {
      "cell_type": "markdown",
      "metadata": {
        "id": "EJ8ESDk27eIB"
      },
      "source": [
        "https://www.w3schools.com/python/python_strings_methods.asp"
      ]
    },
    {
      "cell_type": "markdown",
      "metadata": {
        "id": "yIOX05nx7yXE"
      },
      "source": [
        "**Fun with lists**"
      ]
    },
    {
      "cell_type": "code",
      "metadata": {
        "colab": {
          "base_uri": "https://localhost:8080/",
          "height": 0
        },
        "id": "wyAOKAnk7caY",
        "outputId": "ae564639-50fc-49ad-c10b-96cc37171b35"
      },
      "source": [
        "thislist = [\"apple\", \"banana\", \"cherry\"]\n",
        "print(thislist[0])\n",
        "print(thislist[1])\n",
        "print(thislist[2])"
      ],
      "execution_count": 28,
      "outputs": [
        {
          "output_type": "stream",
          "name": "stdout",
          "text": [
            "apple\n",
            "banana\n",
            "cherry\n"
          ]
        }
      ]
    },
    {
      "cell_type": "code",
      "metadata": {
        "colab": {
          "base_uri": "https://localhost:8080/",
          "height": 164
        },
        "id": "8xsvIATw7250",
        "outputId": "54295fff-f68e-406f-8137-99cdeeed754d"
      },
      "source": [
        "print(thislist[3])"
      ],
      "execution_count": 29,
      "outputs": [
        {
          "output_type": "error",
          "ename": "IndexError",
          "evalue": "ignored",
          "traceback": [
            "\u001b[0;31m---------------------------------------------------------------------------\u001b[0m",
            "\u001b[0;31mIndexError\u001b[0m                                Traceback (most recent call last)",
            "\u001b[0;32m<ipython-input-29-7536e39c7751>\u001b[0m in \u001b[0;36m<module>\u001b[0;34m()\u001b[0m\n\u001b[0;32m----> 1\u001b[0;31m \u001b[0mprint\u001b[0m\u001b[0;34m(\u001b[0m\u001b[0mthislist\u001b[0m\u001b[0;34m[\u001b[0m\u001b[0;36m3\u001b[0m\u001b[0;34m]\u001b[0m\u001b[0;34m)\u001b[0m\u001b[0;34m\u001b[0m\u001b[0;34m\u001b[0m\u001b[0m\n\u001b[0m",
            "\u001b[0;31mIndexError\u001b[0m: list index out of range"
          ]
        }
      ]
    },
    {
      "cell_type": "code",
      "metadata": {
        "colab": {
          "base_uri": "https://localhost:8080/"
        },
        "id": "iGh9DVih79sC",
        "outputId": "4fe01e25-e312-4135-f08f-b1be00dfef8e"
      },
      "source": [
        "thislist[1] = \"blackcurrant\"\n",
        "print(thislist)"
      ],
      "execution_count": 30,
      "outputs": [
        {
          "output_type": "stream",
          "name": "stdout",
          "text": [
            "['apple', 'blackcurrant', 'cherry']\n"
          ]
        }
      ]
    },
    {
      "cell_type": "code",
      "metadata": {
        "colab": {
          "base_uri": "https://localhost:8080/"
        },
        "id": "e--L9FnF8wGe",
        "outputId": "bc4386f7-db9a-4174-8727-53e2965b5064"
      },
      "source": [
        "thislist.append(\"orange\")\n",
        "print(thislist)"
      ],
      "execution_count": 31,
      "outputs": [
        {
          "output_type": "stream",
          "name": "stdout",
          "text": [
            "['apple', 'blackcurrant', 'cherry', 'orange']\n"
          ]
        }
      ]
    },
    {
      "cell_type": "code",
      "metadata": {
        "colab": {
          "base_uri": "https://localhost:8080/"
        },
        "id": "wMmzCdJK80tF",
        "outputId": "d2675cfe-ff0d-40ba-fdfa-4c6ce369d44f"
      },
      "source": [
        "thislist.remove(\"apple\")\n",
        "print(thislist)"
      ],
      "execution_count": 33,
      "outputs": [
        {
          "output_type": "stream",
          "name": "stdout",
          "text": [
            "['blackcurrant', 'cherry', 'orange']\n"
          ]
        }
      ]
    },
    {
      "cell_type": "code",
      "metadata": {
        "colab": {
          "base_uri": "https://localhost:8080/"
        },
        "id": "Tcx3lXdw83cb",
        "outputId": "6cff7783-4eff-4324-f066-3499248ef3ac"
      },
      "source": [
        "thislist = [\"orange\", \"mango\", \"kiwi\", \"pineapple\", \"banana\"]\n",
        "thislist.sort()\n",
        "print(thislist)"
      ],
      "execution_count": 35,
      "outputs": [
        {
          "output_type": "stream",
          "name": "stdout",
          "text": [
            "['banana', 'kiwi', 'mango', 'orange', 'pineapple']\n"
          ]
        }
      ]
    },
    {
      "cell_type": "markdown",
      "metadata": {
        "id": "rV7J58aT9Khb"
      },
      "source": [
        "https://www.w3schools.com/python/python_lists_methods.asp"
      ]
    },
    {
      "cell_type": "markdown",
      "metadata": {
        "id": "8ws76alT9Thi"
      },
      "source": [
        "**Importing modules**"
      ]
    },
    {
      "cell_type": "code",
      "metadata": {
        "id": "AEconE319Bkz"
      },
      "source": [
        "import math"
      ],
      "execution_count": 36,
      "outputs": []
    },
    {
      "cell_type": "code",
      "metadata": {
        "colab": {
          "base_uri": "https://localhost:8080/"
        },
        "id": "Fztzqhc_9cwY",
        "outputId": "3b11924e-038e-46dd-cf30-1113ca7ca5d0"
      },
      "source": [
        "x = math.sqrt(64)\n",
        "print(x)"
      ],
      "execution_count": 37,
      "outputs": [
        {
          "output_type": "stream",
          "name": "stdout",
          "text": [
            "8.0\n"
          ]
        }
      ]
    },
    {
      "cell_type": "code",
      "metadata": {
        "colab": {
          "base_uri": "https://localhost:8080/"
        },
        "id": "8mmpjKay9euA",
        "outputId": "e2b1322c-795e-465b-e6b1-898a028a3985"
      },
      "source": [
        "x = math.pi\n",
        "print(x)"
      ],
      "execution_count": 38,
      "outputs": [
        {
          "output_type": "stream",
          "name": "stdout",
          "text": [
            "3.141592653589793\n"
          ]
        }
      ]
    },
    {
      "cell_type": "markdown",
      "metadata": {
        "id": "MSM4W3qF9sCv"
      },
      "source": [
        "**Loops**"
      ]
    },
    {
      "cell_type": "code",
      "metadata": {
        "colab": {
          "base_uri": "https://localhost:8080/"
        },
        "id": "IIEE9tIm9q6o",
        "outputId": "edc43b7a-07fd-42f2-b444-7499d2f2702b"
      },
      "source": [
        "thislist = [\"apple\", \"banana\", \"cherry\"]\n",
        "for x in thislist:\n",
        "  print(x)"
      ],
      "execution_count": 39,
      "outputs": [
        {
          "output_type": "stream",
          "name": "stdout",
          "text": [
            "apple\n",
            "banana\n",
            "cherry\n"
          ]
        }
      ]
    },
    {
      "cell_type": "code",
      "metadata": {
        "colab": {
          "base_uri": "https://localhost:8080/"
        },
        "id": "Kpyrw_kp9hhw",
        "outputId": "03d3aa46-9c2a-4367-b284-210306a0ae31"
      },
      "source": [
        "thislist = [\"apple\", \"banana\", \"cherry\"]\n",
        "for i in range(len(thislist)):\n",
        "  print(i)"
      ],
      "execution_count": 41,
      "outputs": [
        {
          "output_type": "stream",
          "name": "stdout",
          "text": [
            "0\n",
            "1\n",
            "2\n"
          ]
        }
      ]
    },
    {
      "cell_type": "markdown",
      "metadata": {
        "id": "aOoEmNXQ984G"
      },
      "source": [
        "**Plotting**"
      ]
    },
    {
      "cell_type": "code",
      "metadata": {
        "colab": {
          "base_uri": "https://localhost:8080/",
          "height": 265
        },
        "id": "HWDwCW529xoe",
        "outputId": "ad3773a2-920d-4f73-f3a0-93f6558973eb"
      },
      "source": [
        "import matplotlib.pyplot as plt\n",
        "\n",
        "x = [5,7,8,7,2,17,2,9,4,11,12,9,6]\n",
        "y = [99,86,87,88,111,86,103,87,94,78,77,85,86]\n",
        "\n",
        "plt.scatter(x, y)\n",
        "plt.show()"
      ],
      "execution_count": 42,
      "outputs": [
        {
          "output_type": "display_data",
          "data": {
            "image/png": "[encoded data removed]",
            "text/plain": [
              "<Figure size 432x288 with 1 Axes>"
            ]
          },
          "metadata": {
            "needs_background": "light"
          }
        }
      ]
    },
    {
      "cell_type": "code",
      "metadata": {
        "id": "doC7nOQj97iU"
      },
      "source": [
        ""
      ],
      "execution_count": null,
      "outputs": []
    }
  ]
}